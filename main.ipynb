{
 "cells": [
  {
   "metadata": {},
   "cell_type": "markdown",
   "source": [
    "## Introduction\n",
    "\n",
    "Hello, my readers, I'm Parthiv. Quick note: **This file will have a lot of playing around and searching for trends!** The `dist/` directory will have a lot of the final graphs and analysis, so make sure to explore that after. I'll try to explain what I'm doing as we go on, but I apologize if anything's unclear."
   ],
   "id": "e7ce59ce9e39371"
  },
  {
   "cell_type": "code",
   "id": "initial_id",
   "metadata": {
    "collapsed": true,
    "ExecuteTime": {
     "end_time": "2024-11-09T01:13:52.268386Z",
     "start_time": "2024-11-09T01:13:52.151878Z"
    }
   },
   "source": [
    "# Importing necessary libraries\n",
    "# pip install pandas numpy matplotlib seaborn plotly scienceplots\n",
    "\n",
    "import pandas as pd\n",
    "import numpy as np\n",
    "import matplotlib.pyplot as plt\n",
    "import seaborn as sns\n",
    "import plotly.express as px\n"
   ],
   "outputs": [],
   "execution_count": 3
  },
  {
   "metadata": {},
   "cell_type": "markdown",
   "source": [
    "### Config for Matplotlib, Seaborn, Plotly, LaTeX\n",
    "\n",
    "Style config. Prioritizing aesthetics but also should be scientifically appropriate."
   ],
   "id": "af0781aa27e54fee"
  },
  {
   "metadata": {
    "ExecuteTime": {
     "end_time": "2024-11-09T01:19:00.100751Z",
     "start_time": "2024-11-09T01:19:00.086750Z"
    }
   },
   "cell_type": "code",
   "source": [
    "# Set global figure size\n",
    "plt.rcParams['figure.figsize'] = [10, 6]\n",
    "\n",
    "# Set font sizes\n",
    "plt.rcParams['font.size'] = 12\n",
    "plt.rcParams['axes.labelsize'] = 14\n",
    "plt.rcParams['axes.titlesize'] = 16\n",
    "\n",
    "plt.rcParams['figure.autolayout'] = True\n",
    "\n",
    "sns.set_style('whitegrid')\n",
    "sns.set_context('notebook', font_scale=1.2)\n",
    "\n",
    "import plotly.io as pio\n",
    "pio.templates.default = \"plotly_white\"\n",
    "\n",
    "plt.rcParams['text.usetex'] = True\n"
   ],
   "id": "20893cad68e2e5ea",
   "outputs": [],
   "execution_count": 5
  },
  {
   "metadata": {},
   "cell_type": "code",
   "outputs": [],
   "execution_count": null,
   "source": [
    "# Color palettes\n",
    "\n",
    "custom_palette = sns.color_palette('Set2')\n",
    "sns.set_palette(custom_palette)\n",
    "\n",
    "from cycler import cycler\n",
    "\n",
    "# Define a custom color cycle\n",
    "colors = ['#4E79A7', '#F28E2B', '#E15759', '#76B7B2', '#59A14F']\n",
    "plt.rcParams['axes.prop_cycle'] = cycler(color=colors)\n"
   ],
   "id": "63a7095a3a796596"
  },
  {
   "metadata": {
    "ExecuteTime": {
     "end_time": "2024-11-09T01:21:46.221820Z",
     "start_time": "2024-11-09T01:21:46.216820Z"
    }
   },
   "cell_type": "code",
   "source": [
    "# Fonts\n",
    "plt.rcParams['font.family'] = 'sans-serif'\n",
    "plt.rcParams['font.sans-serif'] = ['Arial']\n",
    "\n",
    "plt.rcParams['pdf.fonttype'] = 42\n",
    "plt.rcParams['ps.fonttype'] = 42\n"
   ],
   "id": "42e8a3df937e0867",
   "outputs": [],
   "execution_count": 6
  }
 ],
 "metadata": {
  "kernelspec": {
   "display_name": "Python 3",
   "language": "python",
   "name": "python3"
  },
  "language_info": {
   "codemirror_mode": {
    "name": "ipython",
    "version": 2
   },
   "file_extension": ".py",
   "mimetype": "text/x-python",
   "name": "python",
   "nbconvert_exporter": "python",
   "pygments_lexer": "ipython2",
   "version": "2.7.6"
  }
 },
 "nbformat": 4,
 "nbformat_minor": 5
}

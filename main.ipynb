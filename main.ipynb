{
 "cells": [
  {
   "metadata": {},
   "cell_type": "markdown",
   "source": [
    "## Introduction\n",
    "\n",
    "Hello, my readers, I'm Parthiv. Quick note: **This file will have a lot of playing around and searching for trends!** The `dist/` directory will have a lot of the final graphs and analysis, so make sure to explore that after. I'll try to explain what I'm doing as we go on, but I apologize if anything's unclear.\n",
    "\n",
    "### Table of Contents\n",
    "\n",
    "- [EDA](/EDA)"
   ],
   "id": "e7ce59ce9e39371"
  },
  {
   "cell_type": "code",
   "id": "initial_id",
   "metadata": {
    "collapsed": true,
    "ExecuteTime": {
     "end_time": "2024-11-09T19:03:20.630562Z",
     "start_time": "2024-11-09T19:03:19.889617Z"
    }
   },
   "source": [
    "# Importing necessary libraries\n",
    "# pip install pandas numpy matplotlib seaborn plotly scienceplots\n",
    "\n",
    "import pandas as pd\n",
    "import numpy as np\n",
    "import matplotlib.pyplot as plt\n",
    "import seaborn as sns\n",
    "import plotly.express as px\n"
   ],
   "outputs": [],
   "execution_count": 3
  },
  {
   "metadata": {},
   "cell_type": "markdown",
   "source": [
    "### Config for Matplotlib, Seaborn, Plotly, LaTeX\n",
    "\n",
    "Style config. Prioritizing aesthetics but also should be scientifically appropriate."
   ],
   "id": "af0781aa27e54fee"
  },
  {
   "metadata": {
    "ExecuteTime": {
     "end_time": "2024-11-09T19:03:22.911963Z",
     "start_time": "2024-11-09T19:03:22.500054Z"
    }
   },
   "cell_type": "code",
   "source": [
    "# Set global figure size\n",
    "plt.rcParams['figure.figsize'] = [10, 6]\n",
    "\n",
    "# Set font sizes\n",
    "plt.rcParams['font.size'] = 12\n",
    "plt.rcParams['axes.labelsize'] = 14\n",
    "plt.rcParams['axes.titlesize'] = 16\n",
    "\n",
    "plt.rcParams['figure.autolayout'] = True\n",
    "\n",
    "sns.set_style('whitegrid')\n",
    "sns.set_context('notebook', font_scale=1.2)\n",
    "\n",
    "import plotly.io as pio\n",
    "pio.templates.default = \"plotly_white\"\n",
    "\n",
    "plt.rcParams['text.usetex'] = True\n"
   ],
   "id": "20893cad68e2e5ea",
   "outputs": [],
   "execution_count": 4
  },
  {
   "metadata": {
    "ExecuteTime": {
     "end_time": "2024-11-09T19:03:24.757697Z",
     "start_time": "2024-11-09T19:03:24.748696Z"
    }
   },
   "cell_type": "code",
   "source": [
    "# Color palettes\n",
    "\n",
    "custom_palette = sns.color_palette('Set2')\n",
    "sns.set_palette(custom_palette)\n",
    "\n",
    "from cycler import cycler\n",
    "\n",
    "# Define a custom color cycle\n",
    "colors = ['#4E79A7', '#F28E2B', '#E15759', '#76B7B2', '#59A14F']\n",
    "plt.rcParams['axes.prop_cycle'] = cycler(color=colors)\n"
   ],
   "id": "63a7095a3a796596",
   "outputs": [],
   "execution_count": 5
  },
  {
   "metadata": {
    "ExecuteTime": {
     "end_time": "2024-11-09T19:03:26.449933Z",
     "start_time": "2024-11-09T19:03:26.445935Z"
    }
   },
   "cell_type": "code",
   "source": [
    "# Fonts\n",
    "plt.rcParams['font.family'] = 'sans-serif'\n",
    "plt.rcParams['font.sans-serif'] = ['Arial']\n",
    "\n",
    "plt.rcParams['pdf.fonttype'] = 42\n",
    "plt.rcParams['ps.fonttype'] = 42"
   ],
   "id": "42e8a3df937e0867",
   "outputs": [],
   "execution_count": 6
  },
  {
   "metadata": {},
   "cell_type": "markdown",
   "source": [
    "## Pre-processing\n",
    "Load data into dataframes, perform initial inspection, handle missing values & incorrect data types"
   ],
   "id": "271cae6ce90d9c88"
  },
  {
   "metadata": {
    "ExecuteTime": {
     "end_time": "2024-11-09T19:03:27.920808Z",
     "start_time": "2024-11-09T19:03:27.822298Z"
    }
   },
   "cell_type": "code",
   "source": [
    "titles = pd.read_csv('titles.csv')\n",
    "credits = pd.read_csv('credits.csv')\n",
    "print(\"Titles Dataset:\")\n",
    "display(titles.head())\n",
    "\n",
    "print(\"Credits Dataset:\")\n",
    "display(credits.head())\n"
   ],
   "id": "9603e554b368b021",
   "outputs": [
    {
     "name": "stdout",
     "output_type": "stream",
     "text": [
      "Titles Dataset:\n"
     ]
    },
    {
     "data": {
      "text/plain": [
       "         id                                title   type  \\\n",
       "0  ts300399  Five Came Back: The Reference Films   SHOW   \n",
       "1   tm84618                          Taxi Driver  MOVIE   \n",
       "2  tm154986                          Deliverance  MOVIE   \n",
       "3  tm127384      Monty Python and the Holy Grail  MOVIE   \n",
       "4  tm120801                      The Dirty Dozen  MOVIE   \n",
       "\n",
       "                                         description  release_year  \\\n",
       "0  This collection includes 12 World War II-era p...          1945   \n",
       "1  A mentally unstable Vietnam War veteran works ...          1976   \n",
       "2  Intent on seeing the Cahulawassee River before...          1972   \n",
       "3  King Arthur, accompanied by his squire, recrui...          1975   \n",
       "4  12 American military prisoners in World War II...          1967   \n",
       "\n",
       "  age_certification  runtime                                       genres  \\\n",
       "0             TV-MA       51                            ['documentation']   \n",
       "1                 R      114                           ['drama', 'crime']   \n",
       "2                 R      109  ['drama', 'action', 'thriller', 'european']   \n",
       "3                PG       91              ['fantasy', 'action', 'comedy']   \n",
       "4               NaN      150                            ['war', 'action']   \n",
       "\n",
       "  production_countries  seasons    imdb_id  imdb_score  imdb_votes  \\\n",
       "0               ['US']      1.0        NaN         NaN         NaN   \n",
       "1               ['US']      NaN  tt0075314         8.2    808582.0   \n",
       "2               ['US']      NaN  tt0068473         7.7    107673.0   \n",
       "3               ['GB']      NaN  tt0071853         8.2    534486.0   \n",
       "4         ['GB', 'US']      NaN  tt0061578         7.7     72662.0   \n",
       "\n",
       "   tmdb_popularity  tmdb_score  \n",
       "0            0.600         NaN  \n",
       "1           40.965       8.179  \n",
       "2           10.010       7.300  \n",
       "3           15.461       7.811  \n",
       "4           20.398       7.600  "
      ],
      "text/html": [
       "<div>\n",
       "<style scoped>\n",
       "    .dataframe tbody tr th:only-of-type {\n",
       "        vertical-align: middle;\n",
       "    }\n",
       "\n",
       "    .dataframe tbody tr th {\n",
       "        vertical-align: top;\n",
       "    }\n",
       "\n",
       "    .dataframe thead th {\n",
       "        text-align: right;\n",
       "    }\n",
       "</style>\n",
       "<table border=\"1\" class=\"dataframe\">\n",
       "  <thead>\n",
       "    <tr style=\"text-align: right;\">\n",
       "      <th></th>\n",
       "      <th>id</th>\n",
       "      <th>title</th>\n",
       "      <th>type</th>\n",
       "      <th>description</th>\n",
       "      <th>release_year</th>\n",
       "      <th>age_certification</th>\n",
       "      <th>runtime</th>\n",
       "      <th>genres</th>\n",
       "      <th>production_countries</th>\n",
       "      <th>seasons</th>\n",
       "      <th>imdb_id</th>\n",
       "      <th>imdb_score</th>\n",
       "      <th>imdb_votes</th>\n",
       "      <th>tmdb_popularity</th>\n",
       "      <th>tmdb_score</th>\n",
       "    </tr>\n",
       "  </thead>\n",
       "  <tbody>\n",
       "    <tr>\n",
       "      <th>0</th>\n",
       "      <td>ts300399</td>\n",
       "      <td>Five Came Back: The Reference Films</td>\n",
       "      <td>SHOW</td>\n",
       "      <td>This collection includes 12 World War II-era p...</td>\n",
       "      <td>1945</td>\n",
       "      <td>TV-MA</td>\n",
       "      <td>51</td>\n",
       "      <td>['documentation']</td>\n",
       "      <td>['US']</td>\n",
       "      <td>1.0</td>\n",
       "      <td>NaN</td>\n",
       "      <td>NaN</td>\n",
       "      <td>NaN</td>\n",
       "      <td>0.600</td>\n",
       "      <td>NaN</td>\n",
       "    </tr>\n",
       "    <tr>\n",
       "      <th>1</th>\n",
       "      <td>tm84618</td>\n",
       "      <td>Taxi Driver</td>\n",
       "      <td>MOVIE</td>\n",
       "      <td>A mentally unstable Vietnam War veteran works ...</td>\n",
       "      <td>1976</td>\n",
       "      <td>R</td>\n",
       "      <td>114</td>\n",
       "      <td>['drama', 'crime']</td>\n",
       "      <td>['US']</td>\n",
       "      <td>NaN</td>\n",
       "      <td>tt0075314</td>\n",
       "      <td>8.2</td>\n",
       "      <td>808582.0</td>\n",
       "      <td>40.965</td>\n",
       "      <td>8.179</td>\n",
       "    </tr>\n",
       "    <tr>\n",
       "      <th>2</th>\n",
       "      <td>tm154986</td>\n",
       "      <td>Deliverance</td>\n",
       "      <td>MOVIE</td>\n",
       "      <td>Intent on seeing the Cahulawassee River before...</td>\n",
       "      <td>1972</td>\n",
       "      <td>R</td>\n",
       "      <td>109</td>\n",
       "      <td>['drama', 'action', 'thriller', 'european']</td>\n",
       "      <td>['US']</td>\n",
       "      <td>NaN</td>\n",
       "      <td>tt0068473</td>\n",
       "      <td>7.7</td>\n",
       "      <td>107673.0</td>\n",
       "      <td>10.010</td>\n",
       "      <td>7.300</td>\n",
       "    </tr>\n",
       "    <tr>\n",
       "      <th>3</th>\n",
       "      <td>tm127384</td>\n",
       "      <td>Monty Python and the Holy Grail</td>\n",
       "      <td>MOVIE</td>\n",
       "      <td>King Arthur, accompanied by his squire, recrui...</td>\n",
       "      <td>1975</td>\n",
       "      <td>PG</td>\n",
       "      <td>91</td>\n",
       "      <td>['fantasy', 'action', 'comedy']</td>\n",
       "      <td>['GB']</td>\n",
       "      <td>NaN</td>\n",
       "      <td>tt0071853</td>\n",
       "      <td>8.2</td>\n",
       "      <td>534486.0</td>\n",
       "      <td>15.461</td>\n",
       "      <td>7.811</td>\n",
       "    </tr>\n",
       "    <tr>\n",
       "      <th>4</th>\n",
       "      <td>tm120801</td>\n",
       "      <td>The Dirty Dozen</td>\n",
       "      <td>MOVIE</td>\n",
       "      <td>12 American military prisoners in World War II...</td>\n",
       "      <td>1967</td>\n",
       "      <td>NaN</td>\n",
       "      <td>150</td>\n",
       "      <td>['war', 'action']</td>\n",
       "      <td>['GB', 'US']</td>\n",
       "      <td>NaN</td>\n",
       "      <td>tt0061578</td>\n",
       "      <td>7.7</td>\n",
       "      <td>72662.0</td>\n",
       "      <td>20.398</td>\n",
       "      <td>7.600</td>\n",
       "    </tr>\n",
       "  </tbody>\n",
       "</table>\n",
       "</div>"
      ]
     },
     "metadata": {},
     "output_type": "display_data"
    },
    {
     "name": "stdout",
     "output_type": "stream",
     "text": [
      "Credits Dataset:\n"
     ]
    },
    {
     "data": {
      "text/plain": [
       "   person_id       id             name                character   role\n",
       "0       3748  tm84618   Robert De Niro            Travis Bickle  ACTOR\n",
       "1      14658  tm84618     Jodie Foster            Iris Steensma  ACTOR\n",
       "2       7064  tm84618    Albert Brooks                      Tom  ACTOR\n",
       "3       3739  tm84618    Harvey Keitel  Matthew 'Sport' Higgins  ACTOR\n",
       "4      48933  tm84618  Cybill Shepherd                    Betsy  ACTOR"
      ],
      "text/html": [
       "<div>\n",
       "<style scoped>\n",
       "    .dataframe tbody tr th:only-of-type {\n",
       "        vertical-align: middle;\n",
       "    }\n",
       "\n",
       "    .dataframe tbody tr th {\n",
       "        vertical-align: top;\n",
       "    }\n",
       "\n",
       "    .dataframe thead th {\n",
       "        text-align: right;\n",
       "    }\n",
       "</style>\n",
       "<table border=\"1\" class=\"dataframe\">\n",
       "  <thead>\n",
       "    <tr style=\"text-align: right;\">\n",
       "      <th></th>\n",
       "      <th>person_id</th>\n",
       "      <th>id</th>\n",
       "      <th>name</th>\n",
       "      <th>character</th>\n",
       "      <th>role</th>\n",
       "    </tr>\n",
       "  </thead>\n",
       "  <tbody>\n",
       "    <tr>\n",
       "      <th>0</th>\n",
       "      <td>3748</td>\n",
       "      <td>tm84618</td>\n",
       "      <td>Robert De Niro</td>\n",
       "      <td>Travis Bickle</td>\n",
       "      <td>ACTOR</td>\n",
       "    </tr>\n",
       "    <tr>\n",
       "      <th>1</th>\n",
       "      <td>14658</td>\n",
       "      <td>tm84618</td>\n",
       "      <td>Jodie Foster</td>\n",
       "      <td>Iris Steensma</td>\n",
       "      <td>ACTOR</td>\n",
       "    </tr>\n",
       "    <tr>\n",
       "      <th>2</th>\n",
       "      <td>7064</td>\n",
       "      <td>tm84618</td>\n",
       "      <td>Albert Brooks</td>\n",
       "      <td>Tom</td>\n",
       "      <td>ACTOR</td>\n",
       "    </tr>\n",
       "    <tr>\n",
       "      <th>3</th>\n",
       "      <td>3739</td>\n",
       "      <td>tm84618</td>\n",
       "      <td>Harvey Keitel</td>\n",
       "      <td>Matthew 'Sport' Higgins</td>\n",
       "      <td>ACTOR</td>\n",
       "    </tr>\n",
       "    <tr>\n",
       "      <th>4</th>\n",
       "      <td>48933</td>\n",
       "      <td>tm84618</td>\n",
       "      <td>Cybill Shepherd</td>\n",
       "      <td>Betsy</td>\n",
       "      <td>ACTOR</td>\n",
       "    </tr>\n",
       "  </tbody>\n",
       "</table>\n",
       "</div>"
      ]
     },
     "metadata": {},
     "output_type": "display_data"
    }
   ],
   "execution_count": 7
  },
  {
   "metadata": {
    "ExecuteTime": {
     "end_time": "2024-11-09T19:03:30.314331Z",
     "start_time": "2024-11-09T19:03:30.305328Z"
    }
   },
   "cell_type": "code",
   "source": [
    "print(f\"Titles dataset shape: {titles.shape}\")\n",
    "print(f\"Credits dataset shape: {credits.shape}\")\n"
   ],
   "id": "f9a6d488c08c5928",
   "outputs": [
    {
     "name": "stdout",
     "output_type": "stream",
     "text": [
      "Titles dataset shape: (5849, 15)\n",
      "Credits dataset shape: (77801, 5)\n"
     ]
    }
   ],
   "execution_count": 8
  },
  {
   "metadata": {
    "ExecuteTime": {
     "end_time": "2024-11-09T19:03:31.801742Z",
     "start_time": "2024-11-09T19:03:31.779741Z"
    }
   },
   "cell_type": "code",
   "source": [
    "print(\"Titles Dataset Info:\")\n",
    "print(titles.info())\n",
    "\n",
    "print(\"\\nCredits Dataset Info:\")\n",
    "print(credits.info())"
   ],
   "id": "844a60b00bddfb18",
   "outputs": [
    {
     "name": "stdout",
     "output_type": "stream",
     "text": [
      "Titles Dataset Info:\n",
      "<class 'pandas.core.frame.DataFrame'>\n",
      "RangeIndex: 5849 entries, 0 to 5848\n",
      "Data columns (total 15 columns):\n",
      " #   Column                Non-Null Count  Dtype  \n",
      "---  ------                --------------  -----  \n",
      " 0   id                    5849 non-null   object \n",
      " 1   title                 5848 non-null   object \n",
      " 2   type                  5849 non-null   object \n",
      " 3   description           5831 non-null   object \n",
      " 4   release_year          5849 non-null   int64  \n",
      " 5   age_certification     3230 non-null   object \n",
      " 6   runtime               5849 non-null   int64  \n",
      " 7   genres                5849 non-null   object \n",
      " 8   production_countries  5849 non-null   object \n",
      " 9   seasons               2106 non-null   float64\n",
      " 10  imdb_id               5446 non-null   object \n",
      " 11  imdb_score            5367 non-null   float64\n",
      " 12  imdb_votes            5351 non-null   float64\n",
      " 13  tmdb_popularity       5758 non-null   float64\n",
      " 14  tmdb_score            5538 non-null   float64\n",
      "dtypes: float64(5), int64(2), object(8)\n",
      "memory usage: 685.6+ KB\n",
      "None\n",
      "\n",
      "Credits Dataset Info:\n",
      "<class 'pandas.core.frame.DataFrame'>\n",
      "RangeIndex: 77801 entries, 0 to 77800\n",
      "Data columns (total 5 columns):\n",
      " #   Column     Non-Null Count  Dtype \n",
      "---  ------     --------------  ----- \n",
      " 0   person_id  77801 non-null  int64 \n",
      " 1   id         77801 non-null  object\n",
      " 2   name       77801 non-null  object\n",
      " 3   character  68029 non-null  object\n",
      " 4   role       77801 non-null  object\n",
      "dtypes: int64(1), object(4)\n",
      "memory usage: 3.0+ MB\n",
      "None\n"
     ]
    }
   ],
   "execution_count": 9
  },
  {
   "metadata": {
    "ExecuteTime": {
     "end_time": "2024-11-09T19:03:33.863860Z",
     "start_time": "2024-11-09T19:03:33.832854Z"
    }
   },
   "cell_type": "code",
   "source": [
    "print(\"Missing Values in Titles Dataset:\")\n",
    "print(titles.isnull().sum())\n",
    "\n",
    "print(\"\\nMissing Values in Credits Dataset:\")\n",
    "print(credits.isnull().sum())\n",
    "\n",
    "print(\"Percentage of Missing Values in Titles Dataset:\")\n",
    "print((titles.isnull().sum() / len(titles)) * 100)\n",
    "\n",
    "print(\"\\nPercentage of Missing Values in Credits Dataset:\")\n",
    "print((credits.isnull().sum() / len(credits)) * 100)\n"
   ],
   "id": "c7f317bf1424f4d6",
   "outputs": [
    {
     "name": "stdout",
     "output_type": "stream",
     "text": [
      "Missing Values in Titles Dataset:\n",
      "id                         0\n",
      "title                      1\n",
      "type                       0\n",
      "description               18\n",
      "release_year               0\n",
      "age_certification       2619\n",
      "runtime                    0\n",
      "genres                     0\n",
      "production_countries       0\n",
      "seasons                 3743\n",
      "imdb_id                  403\n",
      "imdb_score               482\n",
      "imdb_votes               498\n",
      "tmdb_popularity           91\n",
      "tmdb_score               311\n",
      "dtype: int64\n",
      "\n",
      "Missing Values in Credits Dataset:\n",
      "person_id       0\n",
      "id              0\n",
      "name            0\n",
      "character    9772\n",
      "role            0\n",
      "dtype: int64\n",
      "Percentage of Missing Values in Titles Dataset:\n",
      "id                       0.000000\n",
      "title                    0.017097\n",
      "type                     0.000000\n",
      "description              0.307745\n",
      "release_year             0.000000\n",
      "age_certification       44.776885\n",
      "runtime                  0.000000\n",
      "genres                   0.000000\n",
      "production_countries     0.000000\n",
      "seasons                 63.993845\n",
      "imdb_id                  6.890067\n",
      "imdb_score               8.240725\n",
      "imdb_votes               8.514276\n",
      "tmdb_popularity          1.555822\n",
      "tmdb_score               5.317148\n",
      "dtype: float64\n",
      "\n",
      "Percentage of Missing Values in Credits Dataset:\n",
      "person_id     0.00000\n",
      "id            0.00000\n",
      "name          0.00000\n",
      "character    12.56025\n",
      "role          0.00000\n",
      "dtype: float64\n"
     ]
    }
   ],
   "execution_count": 10
  },
  {
   "metadata": {
    "ExecuteTime": {
     "end_time": "2024-11-09T19:03:36.785198Z",
     "start_time": "2024-11-09T19:03:36.761801Z"
    }
   },
   "cell_type": "code",
   "source": [
    "titles = titles.dropna(subset=['title'])\n",
    "titles['description'] = titles['description'].fillna('No description available.')\n",
    "titles['age_certification'] = titles['age_certification'].fillna('Not Rated')\n",
    "titles['seasons'] = titles['seasons'].fillna(0).astype(int)\n",
    "credits['character'] = credits['character'].fillna('Unknown Character')"
   ],
   "id": "8229af24ea200ade",
   "outputs": [],
   "execution_count": 11
  },
  {
   "metadata": {
    "ExecuteTime": {
     "end_time": "2024-11-09T19:03:38.215653Z",
     "start_time": "2024-11-09T19:03:38.171144Z"
    }
   },
   "cell_type": "code",
   "source": [
    "titles['runtime'] = titles['runtime'].astype(int)\n",
    "titles['release_year'] = titles['release_year'].astype(int)\n",
    "titles = titles.drop_duplicates()\n",
    "credits = credits.drop_duplicates()\n",
    "titles['type'] = titles['type'].str.strip().str.upper()"
   ],
   "id": "bd6b2fa95e227e7e",
   "outputs": [],
   "execution_count": 12
  },
  {
   "metadata": {},
   "cell_type": "markdown",
   "source": [
    "## EDA\n",
    "EDA - Exploratory data analysis\n",
    "\n",
    "\n",
    "We will try to explore four things here:\n",
    "- Shift Towards Diversity and Social Issues\n",
    "- Global Expansion Reflected in Production Countries\n",
    "- Simplification of Content Descriptions Over Time\n",
    "- Diversity in the Acting Crew Over Time\n",
    "\n",
    "We will start with the shift towards diversity and social issues.\n"
   ],
   "id": "e9026c9adeadf809"
  },
  {
   "metadata": {},
   "cell_type": "markdown",
   "source": [
    "### Shift towards Diversity and Social Issues\n",
    "- Demonstrate an increase in Netflix content focusing on diversity and social issues over time.\n",
    "- NLP (Natural Language Processing) to analyze descriptions and titles for relevant keywords, sentiment, and topics.\n",
    "- Visualize trends to support the claim."
   ],
   "id": "95fbd3a07ed5a670"
  },
  {
   "metadata": {
    "ExecuteTime": {
     "end_time": "2024-11-09T19:31:56.792312Z",
     "start_time": "2024-11-09T19:31:56.775311Z"
    }
   },
   "cell_type": "code",
   "source": [
    "# Relevant keywords\n",
    "diversity_keywords = [\n",
    "    'diversity', 'inclusion', 'equality', 'race', 'ethnicity', 'gender', 'identity', 'lgbtq', 'minority', 'empowerment',\n",
    "    'mental health', 'climate change', 'environment', 'justice', 'poverty', 'discrimination', 'immigration', 'violence',\n",
    "    'abuse', 'human rights', 'activism', 'social justice', 'culture', 'civil rights', 'intersectionality', 'accessibility',\n",
    "    'sustainability', 'refugee', 'gender equality', 'women', 'indigenous', 'religion', 'class', 'ageism', 'ableism'\n",
    "]"
   ],
   "id": "39747c114541d8bf",
   "outputs": [],
   "execution_count": 17
  },
  {
   "metadata": {
    "ExecuteTime": {
     "end_time": "2024-11-09T19:40:27.588445Z",
     "start_time": "2024-11-09T19:40:27.175971Z"
    }
   },
   "cell_type": "code",
   "source": [
    "import re\n",
    "import nltk\n",
    "\n",
    "nltk.download('punkt')\n",
    "nltk.download('punkt_tab')\n",
    "nltk.download('stopwords')\n",
    "\n",
    "from nltk.tokenize import word_tokenize\n",
    "from nltk.corpus import stopwords"
   ],
   "id": "1886dacd5ec62cda",
   "outputs": [
    {
     "name": "stderr",
     "output_type": "stream",
     "text": [
      "[nltk_data] Downloading package punkt to\n",
      "[nltk_data]     C:\\Users\\Parthiv\\AppData\\Roaming\\nltk_data...\n",
      "[nltk_data]   Package punkt is already up-to-date!\n",
      "[nltk_data] Downloading package punkt_tab to\n",
      "[nltk_data]     C:\\Users\\Parthiv\\AppData\\Roaming\\nltk_data...\n",
      "[nltk_data]   Unzipping tokenizers\\punkt_tab.zip.\n",
      "[nltk_data] Downloading package stopwords to\n",
      "[nltk_data]     C:\\Users\\Parthiv\\AppData\\Roaming\\nltk_data...\n",
      "[nltk_data]   Package stopwords is already up-to-date!\n"
     ]
    }
   ],
   "execution_count": 35
  },
  {
   "metadata": {},
   "cell_type": "markdown",
   "source": "We will now do a little preprocessing for this analysis",
   "id": "5420e47d3b39ae54"
  },
  {
   "metadata": {
    "ExecuteTime": {
     "end_time": "2024-11-09T19:40:42.055104Z",
     "start_time": "2024-11-09T19:40:41.534142Z"
    }
   },
   "cell_type": "code",
   "source": [
    "titles['description'] = titles['description'].astype(str).str.lower() # Convert to lowercase\n",
    "# Use a regex to remove every character except the alphabet\n",
    "titles['description'] = titles['description'].apply(lambda x: re.sub(r'[^a-z\\s]', '', x))\n",
    "\n",
    "titles['tokens'] = titles['description'].apply(word_tokenize)\n",
    "stop_words = set(stopwords.words('english'))\n",
    "\n",
    "# remove stopwords like of, on, an, in, to\n",
    "titles['tokens'] = titles['tokens'].apply(lambda x: [word for word in x if word not in stop_words])\n",
    "\n",
    "print(titles.head())"
   ],
   "id": "68061a41c05c2b4a",
   "outputs": [
    {
     "name": "stdout",
     "output_type": "stream",
     "text": [
      "         id                                title   type  \\\n",
      "0  ts300399  Five Came Back: The Reference Films   SHOW   \n",
      "1   tm84618                          Taxi Driver  MOVIE   \n",
      "2  tm154986                          Deliverance  MOVIE   \n",
      "3  tm127384      Monty Python and the Holy Grail  MOVIE   \n",
      "4  tm120801                      The Dirty Dozen  MOVIE   \n",
      "\n",
      "                                         description  release_year  \\\n",
      "0  this collection includes  world war iiera prop...          1945   \n",
      "1  a mentally unstable vietnam war veteran works ...          1976   \n",
      "2  intent on seeing the cahulawassee river before...          1972   \n",
      "3  king arthur accompanied by his squire recruits...          1975   \n",
      "4   american military prisoners in world war ii a...          1967   \n",
      "\n",
      "  age_certification  runtime                                       genres  \\\n",
      "0             TV-MA       51                            ['documentation']   \n",
      "1                 R      114                           ['drama', 'crime']   \n",
      "2                 R      109  ['drama', 'action', 'thriller', 'european']   \n",
      "3                PG       91              ['fantasy', 'action', 'comedy']   \n",
      "4         Not Rated      150                            ['war', 'action']   \n",
      "\n",
      "  production_countries  seasons    imdb_id  imdb_score  imdb_votes  \\\n",
      "0               ['US']        1        NaN         NaN         NaN   \n",
      "1               ['US']        0  tt0075314         8.2    808582.0   \n",
      "2               ['US']        0  tt0068473         7.7    107673.0   \n",
      "3               ['GB']        0  tt0071853         8.2    534486.0   \n",
      "4         ['GB', 'US']        0  tt0061578         7.7     72662.0   \n",
      "\n",
      "   tmdb_popularity  tmdb_score  \\\n",
      "0            0.600         NaN   \n",
      "1           40.965       8.179   \n",
      "2           10.010       7.300   \n",
      "3           15.461       7.811   \n",
      "4           20.398       7.600   \n",
      "\n",
      "                                              tokens  \n",
      "0  [collection, includes, world, war, iiera, prop...  \n",
      "1  [mentally, unstable, vietnam, war, veteran, wo...  \n",
      "2  [intent, seeing, cahulawassee, river, turned, ...  \n",
      "3  [king, arthur, accompanied, squire, recruits, ...  \n",
      "4  [american, military, prisoners, world, war, ii...  \n"
     ]
    }
   ],
   "execution_count": 37
  }
 ],
 "metadata": {
  "kernelspec": {
   "display_name": "Python 3",
   "language": "python",
   "name": "python3"
  },
  "language_info": {
   "codemirror_mode": {
    "name": "ipython",
    "version": 2
   },
   "file_extension": ".py",
   "mimetype": "text/x-python",
   "name": "python",
   "nbconvert_exporter": "python",
   "pygments_lexer": "ipython2",
   "version": "2.7.6"
  }
 },
 "nbformat": 4,
 "nbformat_minor": 5
}
